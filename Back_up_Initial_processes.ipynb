{
 "cells": [
  {
   "cell_type": "code",
   "execution_count": 1,
   "metadata": {},
   "outputs": [
    {
     "name": "stdout",
     "output_type": "stream",
     "text": [
      "0.8063063998692215\n",
      "157708.333205837\n"
     ]
    }
   ],
   "source": [
    "# Set the working directory\n",
    "\n",
    "#Read the cars.csv data\n",
    "import pandas as pd\n",
    "import numpy as np\n",
    "\n",
    "# train\n",
    "houses = pd.read_csv(\"wk3_kc_house_train_data.csv\")\n",
    "data_all = houses[[ 'waterfront','bathrooms', 'sqft_living', 'grade', 'yr_built','view','sqft_living15','price','zipcode']]\n",
    "one_hot_zip = pd.get_dummies(data_all.zipcode, drop_first=True)\n",
    "data_all = pd.concat([data_all,one_hot_zip],axis = 1)\n",
    "X_train = data_all.drop(\"price\",axis=1)\n",
    "X_train = X_train.drop(\"zipcode\",axis=1)\n",
    "y_train = data_all[\"price\"]\n",
    "\n",
    "from sklearn.linear_model import LinearRegression\n",
    "from sklearn.model_selection import cross_val_score\n",
    "import sklearn.metrics as metrics\n",
    "\n",
    "\n",
    "regressor = LinearRegression()\n",
    "regressor.fit(X_train, y_train)\n",
    "\n",
    "cv_scores = []\n",
    "\n",
    "scores = cross_val_score(regressor, X_train, y_train, cv=10, scoring = \"r2\")\n",
    "cv_scores.append(scores.mean())\n",
    "\n",
    "\n",
    "scores = cross_val_score(regressor, X_train, y_train, cv=10, scoring = \"neg_root_mean_squared_error\")\n",
    "cv_scores.append(scores.mean())\n",
    "cv_scores\n",
    "\n",
    "# test \n",
    "test = pd.read_csv(\"wk3_kc_house_test_data.csv\")\n",
    "test = test[[ 'waterfront','bathrooms', 'sqft_living', 'grade', 'yr_built','view','sqft_living15','price','zipcode']]\n",
    "one_hot_zip = pd.get_dummies(test.zipcode, drop_first=True)\n",
    "test = pd.concat([test,one_hot_zip],axis = 1)\n",
    "X_test = test.drop(\"price\",axis=1)\n",
    "X_test = X_test.drop(\"zipcode\",axis=1)\n",
    "y_test = test[\"price\"]\n",
    "accuracy = regressor.score(X_test, y_test)\n",
    "accuracy\n",
    "y_pred = regressor.predict(X_test)\n",
    "from sklearn.metrics import mean_squared_error, r2_score\n",
    "\n",
    "r2 = r2_score(y_test,y_pred)\n",
    "print(r2)\n",
    "rmse_city = np.sqrt(mean_squared_error(y_test,y_pred))\n",
    "\n",
    "print(rmse_city)"
   ]
  },
  {
   "cell_type": "code",
   "execution_count": null,
   "metadata": {},
   "outputs": [],
   "source": [
    "[ 'waterfront','bathrooms', 'sqft_living', 'grade', 'yr_built','view','sqft_living15','price','zipcode']"
   ]
  },
  {
   "cell_type": "code",
   "execution_count": 7,
   "metadata": {},
   "outputs": [
    {
     "data": {
      "text/plain": [
       "array([ 6.87248890e+05,  1.04840903e+04,  1.75033159e+02,  6.93748245e+04,\n",
       "       -1.25249901e+03,  5.35427801e+04,  7.15688577e+00,  1.70466885e+04,\n",
       "       -4.48501913e+04,  7.99527740e+05,  2.74380457e+05,  2.59022857e+05,\n",
       "        2.30440982e+05,  2.38849678e+05,  5.85826484e+04,  9.02308473e+04,\n",
       "        1.29306980e+05,  7.84523339e+04,  2.26303845e+04, -4.17712452e+04,\n",
       "        2.01858358e+05,  1.41536590e+05,  9.31926341e+04,  1.94200393e+05,\n",
       "       -4.49078131e+03,  2.32667426e+03,  2.20768926e+03,  3.48801313e+05,\n",
       "        1.85620638e+05,  3.75011223e+04,  1.37549950e+06,  4.81141196e+05,\n",
       "        1.00406093e+04,  8.54547401e+04,  2.01477331e+05,  2.07323442e+05,\n",
       "        3.74302552e+04,  8.60617403e+04,  2.46779953e+04,  8.20244307e+04,\n",
       "        6.67051785e+04, -2.92968816e+04,  1.47967303e+05,  1.61456448e+05,\n",
       "        1.47183428e+05,  1.18874956e+05, -4.54251037e+04,  5.07974495e+05,\n",
       "        3.10598412e+05,  4.26361419e+05,  1.27443956e+05,  2.99897979e+05,\n",
       "        9.18871838e+04,  4.86876929e+05,  5.87913583e+05,  2.99781622e+05,\n",
       "        2.53718413e+05,  2.81384022e+05,  1.43198922e+05,  4.27911964e+05,\n",
       "        2.95521611e+05,  1.67535070e+05,  1.62702808e+05,  1.49810031e+05,\n",
       "        2.17519706e+05,  2.43308461e+05,  9.17068008e+04,  7.60903033e+04,\n",
       "        1.26629799e+05,  3.73206188e+04,  6.03006353e+04,  2.01201431e+05,\n",
       "        1.11019149e+04,  9.75054222e+03, -1.41872318e+04,  3.38913674e+05])"
      ]
     },
     "execution_count": 7,
     "metadata": {},
     "output_type": "execute_result"
    }
   ],
   "source": [
    "regressor.coef_"
   ]
  },
  {
   "cell_type": "code",
   "execution_count": 10,
   "metadata": {},
   "outputs": [
    {
     "name": "stdout",
     "output_type": "stream",
     "text": [
      "[(687248.889819964, 'waterfront'), (10484.090273876782, 'bathrooms'), (175.0331586461998, 'sqft_living'), (69374.8244874086, 'grade'), (-1252.4990070366548, 'yr_built'), (53542.78014552657, 'view'), (7.1568857676611515, 'sqft_living15'), (17046.68845693479, 'zipcode')]\n"
     ]
    }
   ],
   "source": [
    "print(list(zip(regressor.coef_, [ 'waterfront','bathrooms', 'sqft_living', 'grade', 'yr_built','view','sqft_living15','zipcode'])))"
   ]
  },
  {
   "cell_type": "code",
   "execution_count": null,
   "metadata": {},
   "outputs": [],
   "source": []
  }
 ],
 "metadata": {
  "kernelspec": {
   "display_name": "Python 3",
   "language": "python",
   "name": "python3"
  },
  "language_info": {
   "codemirror_mode": {
    "name": "ipython",
    "version": 3
   },
   "file_extension": ".py",
   "mimetype": "text/x-python",
   "name": "python",
   "nbconvert_exporter": "python",
   "pygments_lexer": "ipython3",
   "version": "3.8.5"
  }
 },
 "nbformat": 4,
 "nbformat_minor": 4
}
