{
 "cells": [
  {
   "cell_type": "code",
   "execution_count": 2,
   "metadata": {},
   "outputs": [],
   "source": [
    "import pandas as pd\n",
    "\n",
    "import numpy as np\n",
    "\n",
    "import matplotlib.pyplot as plt\n",
    "\n",
    "import seaborn as sns\n",
    "\n",
    "from scipy import stats"
   ]
  },
  {
   "cell_type": "markdown",
   "metadata": {},
   "source": [
    "**We can use Decision Tree and do selection**"
   ]
  },
  {
   "cell_type": "code",
   "execution_count": 9,
   "metadata": {},
   "outputs": [],
   "source": [
    "from sklearn.tree import DecisionTreeRegressor"
   ]
  },
  {
   "cell_type": "code",
   "execution_count": 69,
   "metadata": {},
   "outputs": [],
   "source": [
    "# this function is defined to make use of different selection types like,\n",
    "# Forward, Backward, Step Wise (Sequence Forward)\n",
    "# This function is used for Decision Tree model only\n",
    "# Here the inputs are the predictor space X , target variable y,\n",
    "# max_cols - maximum number of columns that are being iterated through\n",
    "# another feature range_of_cols which can be excerised when we want to use a single column\n",
    "\n",
    "# Here a line plot is plotted at the end when a range of values are given\n",
    "# Here a scatter plot is plotted at the end when a single value is given\n",
    "\n",
    "def selection_mech_dtree (X,y, max_cols = 0, range_of_cols = True):\n",
    "    \n",
    "    if range_of_cols == False:\n",
    "        \n",
    "        range_values = range(max_cols,max_cols+1)\n",
    "    \n",
    "    else:\n",
    "        range_values = range(1,max_cols+1)\n",
    "    \n",
    "    # a list of combination are defined along with the selection and color with which it needs to be displayed.\n",
    "    sel_comb = [(True,False,'Fro','black'),(True,True,'Seq_Fro','blue'),\n",
    "                (False,False,'Back','red')]\n",
    "\n",
    "    plt.figure()\n",
    "    \n",
    "    # a loop is being run for each selection\n",
    "    for for_flag,flo_flag,selection,color_line in sel_comb:\n",
    "\n",
    "        list_n_col = []\n",
    "        list_k_score = []\n",
    "        \n",
    "        # a loop is being run through each number of feature\n",
    "        for i in range_values:\n",
    "            \n",
    "            # using forward and floating the selections are altered\n",
    "            sfs = SFS(DecisionTreeRegressor(),\n",
    "                      k_features=i,\n",
    "                      forward=for_flag,\n",
    "                      floating=flo_flag,\n",
    "                      scoring = 'r2',\n",
    "                      cv = 10)\n",
    "\n",
    "            sfs.fit(X, y)\n",
    "            \n",
    "            # Appending the resultant values\n",
    "            list_n_col.append(selection)\n",
    "            list_k_score.append(sfs.k_score_)\n",
    "         \n",
    "        # Plotting the values   \n",
    "        if range_of_cols == False:\n",
    "            \n",
    "            plt.scatter(list_n_col,list_k_score, label = selection, color = color_line, alpha=0.4)\n",
    "        \n",
    "            plt.xticks(ticks= range_values)\n",
    "        \n",
    "        else:\n",
    "            plt.plot(list_n_col,list_k_score, label = selection, color = color_line, alpha=0.4)\n",
    "\n",
    "        \n",
    "\n",
    "    plt.legend()    \n",
    "\n",
    "    plt.show()"
   ]
  },
  {
   "cell_type": "code",
   "execution_count": 102,
   "metadata": {},
   "outputs": [
    {
     "data": {
      "image/png": "[encoded data removed]",
      "text/plain": [
       "<Figure size 432x288 with 1 Axes>"
      ]
     },
     "metadata": {
      "needs_background": "light"
     },
     "output_type": "display_data"
    }
   ],
   "source": [
    "selection_mech_dtree(X,y,10)\n",
    "\n",
    "# When the function is invoked, we could see that there all the selection varies result but could\n",
    "# they are peaking at number of columns at 8 for Squence Forward"
   ]
  },
  {
   "cell_type": "code",
   "execution_count": 101,
   "metadata": {},
   "outputs": [
    {
     "data": {
      "image/png": "[encoded data removed]",
      "text/plain": [
       "<Figure size 432x288 with 1 Axes>"
      ]
     },
     "metadata": {
      "needs_background": "light"
     },
     "output_type": "display_data"
    }
   ],
   "source": [
    "# The function is invoked, for visualizing the peaked value\n",
    "selection_mech_dtree(X,y,8,False)"
   ]
  },
  {
   "cell_type": "code",
   "execution_count": 105,
   "metadata": {},
   "outputs": [
    {
     "name": "stdout",
     "output_type": "stream",
     "text": [
      "The Selected Features:  ('bathrooms', 'sqft_living', 'sqft_lot', 'floors', 'waterfront', 'grade', 'lat', 'long')\n",
      "The Final Score:  0.7774606442752187\n"
     ]
    }
   ],
   "source": [
    "# Using Sequence Forward alias Step Selection with 8 features\n",
    "sfs = SFS(DecisionTreeRegressor(),\n",
    "                      k_features= 8,\n",
    "                      forward=True,\n",
    "                      floating=True,\n",
    "                      scoring = 'r2',\n",
    "                      cv = 10)\n",
    "\n",
    "sfs.fit(X, y)\n",
    "print('The Selected Features: ',sfs.k_feature_names_)\n",
    "\n",
    "print('The Final Score: ',sfs.k_score_)"
   ]
  },
  {
   "cell_type": "markdown",
   "metadata": {},
   "source": [
    "**Selection - Using Transformed Data**"
   ]
  },
  {
   "cell_type": "code",
   "execution_count": 94,
   "metadata": {},
   "outputs": [],
   "source": [
    "trans_data = data.copy()"
   ]
  },
  {
   "cell_type": "code",
   "execution_count": 95,
   "metadata": {},
   "outputs": [],
   "source": [
    "# to bring into same scale, it is change into radians\n",
    "trans_data['lat'] = np.radians(trans_data['lat'])\n",
    "trans_data['long'] = np.radians(trans_data['long'])"
   ]
  },
  {
   "cell_type": "markdown",
   "metadata": {},
   "source": [
    "**String Date Time to Ordinal**"
   ]
  },
  {
   "cell_type": "code",
   "execution_count": 96,
   "metadata": {},
   "outputs": [],
   "source": [
    "# Converting the date to ordinal value and feeding it into the selection\n",
    "\n",
    "trans_data['date'] = pd.to_datetime(trans_data['date'])\n",
    "\n",
    "trans_data['date']=trans_data['date'].map(dt.datetime.toordinal)`"
   ]
  },
  {
   "cell_type": "markdown",
   "metadata": {},
   "source": [
    "**Seasonality Check**"
   ]
  },
  {
   "cell_type": "code",
   "execution_count": 41,
   "metadata": {},
   "outputs": [
    {
     "data": {
      "text/plain": [
       "<AxesSubplot:xlabel='month', ylabel='price'>"
      ]
     },
     "execution_count": 41,
     "metadata": {},
     "output_type": "execute_result"
    },
    {
     "data": {
      "image/png": "[encoded data removed]",
      "text/plain": [
       "<Figure size 432x288 with 1 Axes>"
      ]
     },
     "metadata": {
      "needs_background": "light"
     },
     "output_type": "display_data"
    }
   ],
   "source": [
    "data_with_month = pd.DataFrame()\n",
    "data_with_month['month'] = data['date'].apply(lambda x:x[4:6]).sort_values()\n",
    "\n",
    "\n",
    "sns.barplot(x = data_with_month['month'], y = data['price'])\n",
    "\n",
    "# Couldnt find any seasonality affect on months"
   ]
  },
  {
   "cell_type": "code",
   "execution_count": 27,
   "metadata": {},
   "outputs": [
    {
     "data": {
      "image/png": "[encoded data removed]",
      "text/plain": [
       "<Figure size 432x288 with 1 Axes>"
      ]
     },
     "metadata": {
      "needs_background": "light"
     },
     "output_type": "display_data"
    }
   ],
   "source": [
    "data_with_day = pd.DataFrame()\n",
    "data_with_day['day'] = data['date'].apply(lambda x:x[6:8]).sort_values()\n",
    "\n",
    "sns.barplot(x = data_with_day['day'], y = data['price'])\n",
    "\n",
    "plt.tight_layout()\n",
    "\n",
    "# Couldnt find any seasonality affect on days of the month sold"
   ]
  },
  {
   "cell_type": "code",
   "execution_count": 97,
   "metadata": {},
   "outputs": [],
   "source": [
    "# there is no seasonality we can remove the date field\n",
    "# Also we can drop id\n",
    "trans_data.drop(columns= ['date','id'], axis =1, inplace= True)"
   ]
  },
  {
   "cell_type": "markdown",
   "metadata": {},
   "source": [
    "**One Hot Encoding for zipcodes**"
   ]
  },
  {
   "cell_type": "code",
   "execution_count": 93,
   "metadata": {},
   "outputs": [],
   "source": [
    "one_hot_zip = pd.get_dummies(data.zipcode, drop_first=True)"
   ]
  },
  {
   "cell_type": "code",
   "execution_count": 98,
   "metadata": {},
   "outputs": [],
   "source": [
    "# Removing Zipcode as one hot encoding is done\n",
    "\n",
    "trans_data.drop(columns= ['zipcode'], axis =1, inplace= True)"
   ]
  },
  {
   "cell_type": "code",
   "execution_count": 75,
   "metadata": {},
   "outputs": [
    {
     "data": {
      "image/png": "[encoded data removed]",
      "text/plain": [
       "<Figure size 432x288 with 1 Axes>"
      ]
     },
     "metadata": {
      "needs_background": "light"
     },
     "output_type": "display_data"
    }
   ],
   "source": [
    "X = trans_data.drop(columns=['price'], axis=1)\n",
    "\n",
    "y = trans_data['price']\n",
    "\n",
    "selection_mech(X,y,17)\n",
    "\n",
    "# When the function is invoked, we could see that all the selection at peaking at columns at 6"
   ]
  },
  {
   "cell_type": "code",
   "execution_count": 100,
   "metadata": {},
   "outputs": [
    {
     "data": {
      "image/png": "[encoded data removed]",
      "text/plain": [
       "<Figure size 432x288 with 1 Axes>"
      ]
     },
     "metadata": {
      "needs_background": "light"
     },
     "output_type": "display_data"
    }
   ],
   "source": [
    "X = trans_data.drop(columns=['price'], axis=1)\n",
    "\n",
    "y = trans_data['price']\n",
    "\n",
    "# The function is invoked, for visualizing the peaked value\n",
    "selection_mech(X,y,6,False)"
   ]
  },
  {
   "cell_type": "code",
   "execution_count": 106,
   "metadata": {},
   "outputs": [
    {
     "name": "stdout",
     "output_type": "stream",
     "text": [
      "The Selected Features:  ('sqft_living', 'waterfront', 'view', 'grade', 'yr_built', 'lat')\n",
      "The Final Score:  0.6796561506553618\n"
     ]
    }
   ],
   "source": [
    "# As for data it is again peaking a 6, so using Seq selection \n",
    "X = trans_data.drop(columns=['price'], axis=1)\n",
    "\n",
    "y = trans_data['price']\n",
    "\n",
    "sfs = SFS(LinearRegression(),\n",
    "                      k_features= 6,\n",
    "                      forward=True,\n",
    "                      floating=False,\n",
    "                      scoring = 'r2',\n",
    "                      cv = 10)\n",
    "\n",
    "sfs.fit(X, y)\n",
    "print('The Selected Features: ',sfs.k_feature_names_)\n",
    "\n",
    "print('The Final Score: ',sfs.k_score_)\n",
    "\n",
    "# the scores have marginally changed after transformation"
   ]
  },
  {
   "cell_type": "code",
   "execution_count": 92,
   "metadata": {},
   "outputs": [
    {
     "name": "stdout",
     "output_type": "stream",
     "text": [
      "The Selected Features:  ('waterfront', 'view', 'condition', 'grade', 'yr_renovated', 'lat')\n",
      "The Final Score:  0.5516722183882972\n"
     ]
    }
   ],
   "source": [
    "X = trans_data.drop(columns=['price'], axis=1)\n",
    "\n",
    "y = trans_data['price']\n",
    "\n",
    "sfs = SFS(DecisionTreeRegressor(),\n",
    "                      k_features=6,\n",
    "                      forward=True,\n",
    "                      floating=True,\n",
    "                      scoring = 'r2',\n",
    "                      cv = 10)\n",
    "\n",
    "sfs.fit(X, y)\n",
    "print('The Selected Features: ',sfs.k_feature_names_)\n",
    "\n",
    "print('The Final Score: ',sfs.k_score_)\n",
    "\n",
    "# The decision tree is not working well will transformed data"
   ]
  },
  {
   "cell_type": "markdown",
   "metadata": {},
   "source": [
    "**Model fitting step 3 - So, we will be selecting feature using the knowledge gained by feature engineering and EDA**"
   ]
  },
  {
   "cell_type": "markdown",
   "metadata": {},
   "source": [
    " These are the features - 'bedrooms', 'sqft_living', 'floors', 'waterfront', 'grade', 'sqft_above', 'lat', 'long'"
   ]
  },
  {
   "cell_type": "code",
   "execution_count": 299,
   "metadata": {},
   "outputs": [],
   "source": [
    "X_train_1 = data[['bedrooms', 'sqft_living', 'floors', 'waterfront', 'grade', 'sqft_above', 'lat', 'long']]\n",
    "y_train_1 = data['price']"
   ]
  },
  {
   "cell_type": "code",
   "execution_count": 336,
   "metadata": {
    "scrolled": true
   },
   "outputs": [
    {
     "name": "stdout",
     "output_type": "stream",
     "text": [
      "\n",
      "Cross Validation\n",
      "RMSE:  -173833.85397640467\n",
      "R2:  0.7848467214488644\n"
     ]
    }
   ],
   "source": [
    "d_tree = DecisionTreeRegressor()\n",
    "\n",
    "# Using Cross Validation to train and test on the train data with the selected features\n",
    "trans_rmse_scores = cross_val_score(d_tree, X_train_1,y_train_1,cv=10, scoring = \"neg_root_mean_squared_error\")\n",
    "trans_r2_scores = cross_val_score(d_tree, X_train_1,y_train_1, cv=10, scoring = \"r2\")\n",
    "\n",
    "\n",
    "print('\\nCross Validation')\n",
    "\n",
    "print('RMSE: ',trans_rmse_scores.mean())\n",
    "print('R2: ',trans_r2_scores.mean())"
   ]
  },
  {
   "cell_type": "markdown",
   "metadata": {},
   "source": [
    "**Testing with Test Data**"
   ]
  },
  {
   "cell_type": "code",
   "execution_count": 6,
   "metadata": {},
   "outputs": [],
   "source": [
    "# test data is being read\n",
    "data_test = pd.read_csv('wk3_kc_house_test_data.csv')"
   ]
  },
  {
   "cell_type": "code",
   "execution_count": 304,
   "metadata": {},
   "outputs": [],
   "source": [
    "# Spliting  the test data\n",
    "X_test_1 = data_test[['bedrooms', 'sqft_living', 'floors', 'waterfront', 'grade', 'sqft_above', 'lat', 'long']]\n",
    "\n",
    "y_test_1 = data_test['price']"
   ]
  },
  {
   "cell_type": "code",
   "execution_count": 359,
   "metadata": {},
   "outputs": [
    {
     "name": "stdout",
     "output_type": "stream",
     "text": [
      "R2: 0.7595336777097327\n",
      "RMSE: 175721.19043155556\n",
      "MAPE:  19.25504068165432\n"
     ]
    }
   ],
   "source": [
    "# using first the default Decision Tree Settings\n",
    "d_tree = DecisionTreeRegressor()\n",
    "\n",
    "d_tree = d_tree.fit(X_train_1,y_train_1)\n",
    "\n",
    "y_pred = d_tree.predict(X_test_1)\n",
    "\n",
    "print('R2:',r2_score(y_test_1,y_pred))\n",
    "\n",
    "print('RMSE:',np.sqrt(mean_squared_error(y_test_1,y_pred)))\n",
    "\n",
    "epsilon = np.finfo(np.float64).eps\n",
    "mape = np.abs(y_pred - y_test_1) / np.maximum(np.abs(y_test_1), epsilon)\n",
    "output_errors = np.average(mape,\n",
    "                               weights=None, axis=0)\n",
    "\n",
    "mape_final =np.average(output_errors, weights=None)\n",
    "\n",
    "print('MAPE: ', mape_final*100)"
   ]
  },
  {
   "cell_type": "markdown",
   "metadata": {},
   "source": [
    "**Adding one hot encoded Zipcodes**"
   ]
  },
  {
   "cell_type": "code",
   "execution_count": 317,
   "metadata": {},
   "outputs": [],
   "source": [
    "X_train_2 = data[['bedrooms', 'sqft_living', 'floors', 'waterfront', 'grade', 'sqft_above', 'lat', 'long']]\n",
    "\n",
    "X_train_2 = pd.concat([X_train_,one_hot_zip],axis = 1)\n",
    "\n",
    "y_train_2 = data['price']"
   ]
  },
  {
   "cell_type": "code",
   "execution_count": 338,
   "metadata": {},
   "outputs": [
    {
     "name": "stdout",
     "output_type": "stream",
     "text": [
      "\n",
      "Cross Validation\n",
      "RMSE:  -180949.87819622125\n",
      "R2:  0.7677349477010551\n"
     ]
    }
   ],
   "source": [
    "d_tree = DecisionTreeRegressor()\n",
    "\n",
    "# Using Cross Validation to train and test on the train data with the selected features\n",
    "trans_rmse_scores = cross_val_score(d_tree, X_train_2,y_train_2,cv=10, scoring = \"neg_root_mean_squared_error\")\n",
    "trans_r2_scores = cross_val_score(d_tree, X_train_2,y_train_2, cv=10, scoring = \"r2\")\n",
    "\n",
    "\n",
    "print('\\nCross Validation')\n",
    "\n",
    "print('RMSE: ',trans_rmse_scores.mean())\n",
    "print('R2: ',trans_r2_scores.mean())"
   ]
  },
  {
   "cell_type": "code",
   "execution_count": 319,
   "metadata": {},
   "outputs": [],
   "source": [
    "# Similarly adding one hot encoding for test data\n",
    "\n",
    "X_test_2 = data_test[['bedrooms', 'sqft_living', 'floors', 'waterfront', 'grade', 'sqft_above', 'lat', 'long']]\n",
    "\n",
    "one_hot_zip = pd.get_dummies(data_test.zipcode, drop_first=True)\n",
    "\n",
    "X_test_2 = pd.concat([X_test_2,one_hot_zip],axis = 1)\n",
    "\n",
    "y_test_2 = data_test['price']"
   ]
  },
  {
   "cell_type": "code",
   "execution_count": 355,
   "metadata": {},
   "outputs": [
    {
     "name": "stdout",
     "output_type": "stream",
     "text": [
      "R2: 0.7374087685804243\n",
      "RMSE: 183627.2439663468\n",
      "MAPE:  19.185052337571374\n"
     ]
    }
   ],
   "source": [
    "# using first the default Decision Tree Settings\n",
    "d_tree = DecisionTreeRegressor()\n",
    "\n",
    "d_tree = d_tree.fit(X_train_2, y_train_2)\n",
    "\n",
    "y_pred = d_tree.predict(X_test_2)\n",
    "\n",
    "print('R2:',r2_score(y_test_2,y_pred))\n",
    "\n",
    "print('RMSE:',np.sqrt(mean_squared_error(y_test,y_pred)))\n",
    "\n",
    "epsilon = np.finfo(np.float64).eps\n",
    "mape = np.abs(y_pred - y_test_2) / np.maximum(np.abs(y_test_2), epsilon)\n",
    "output_errors = np.average(mape,\n",
    "                               weights=None, axis=0)\n",
    "\n",
    "mape_final =np.average(output_errors, weights=None)\n",
    "\n",
    "print('MAPE: ', mape_final*100)"
   ]
  },
  {
   "cell_type": "markdown",
   "metadata": {},
   "source": [
    "**Dropping ID's with Duplicate Entries**"
   ]
  },
  {
   "cell_type": "code",
   "execution_count": 160,
   "metadata": {},
   "outputs": [],
   "source": [
    "df = data.groupby('id')['price'].count().sort_values(ascending = False)"
   ]
  },
  {
   "cell_type": "code",
   "execution_count": 161,
   "metadata": {},
   "outputs": [],
   "source": [
    "id_with_mul_entries = list(df[df.values > 1].index)"
   ]
  },
  {
   "cell_type": "code",
   "execution_count": 163,
   "metadata": {},
   "outputs": [],
   "source": [
    "# making a copy of the data\n",
    "data_copy = data.copy()"
   ]
  },
  {
   "cell_type": "code",
   "execution_count": 164,
   "metadata": {},
   "outputs": [],
   "source": [
    "# adding the check for present of multiple extries wuing the list of ids\n",
    "data_copy['multi_sales'] = data_copy.id.apply(lambda x: True if x in id_with_mul_entries else False)"
   ]
  },
  {
   "cell_type": "code",
   "execution_count": 167,
   "metadata": {},
   "outputs": [],
   "source": [
    "data_copy_2 = data_copy[data_copy.multi_sales ==False]"
   ]
  },
  {
   "cell_type": "code",
   "execution_count": 168,
   "metadata": {},
   "outputs": [],
   "source": [
    "data_multi = data_copy[data_copy.multi_sales == True].copy()\n",
    "\n",
    "data_multi = data_multi.sort_values('date')\n",
    "\n",
    "data_multi.drop_duplicates(subset=['id'], inplace = True)"
   ]
  },
  {
   "cell_type": "code",
   "execution_count": 180,
   "metadata": {},
   "outputs": [],
   "source": [
    "data_final = data_copy_2.append(data_multi)"
   ]
  },
  {
   "cell_type": "code",
   "execution_count": 172,
   "metadata": {},
   "outputs": [],
   "source": [
    "data_multi = data_multi.sort_values('date')"
   ]
  },
  {
   "cell_type": "code",
   "execution_count": 177,
   "metadata": {},
   "outputs": [],
   "source": [
    "data_multi.drop_duplicates(subset=['id'], inplace = True)"
   ]
  },
  {
   "cell_type": "code",
   "execution_count": 182,
   "metadata": {},
   "outputs": [],
   "source": [
    "X_train_3 = data_final[['bedrooms', 'sqft_living', 'floors', 'waterfront', 'grade', 'sqft_above', 'lat', 'long']]\n",
    "y_train_3 = data_final['price']"
   ]
  },
  {
   "cell_type": "code",
   "execution_count": 183,
   "metadata": {},
   "outputs": [],
   "source": [
    "# Spliting  the test data\n",
    "X_test_3 = data_test[['bedrooms', 'sqft_living', 'floors', 'waterfront', 'grade', 'sqft_above', 'lat', 'long']]\n",
    "\n",
    "y_test_3 = data_test['price']"
   ]
  },
  {
   "cell_type": "code",
   "execution_count": 342,
   "metadata": {},
   "outputs": [
    {
     "name": "stdout",
     "output_type": "stream",
     "text": [
      "\n",
      "Cross Validation\n",
      "RMSE:  -178221.4341707442\n",
      "R2:  0.7620529921093843\n"
     ]
    }
   ],
   "source": [
    "d_tree = DecisionTreeRegressor()\n",
    "\n",
    "# Using Cross Validation to train and test on the train data with the selected features\n",
    "trans_rmse_scores = cross_val_score(d_tree, X_train_3,y_train_3,cv=10, scoring = \"neg_root_mean_squared_error\")\n",
    "trans_r2_scores = cross_val_score(d_tree, X_train_3,y_train_3, cv=10, scoring = \"r2\")\n",
    "\n",
    "\n",
    "print('\\nCross Validation')\n",
    "\n",
    "print('RMSE: ',trans_rmse_scores.mean())\n",
    "print('R2: ',trans_r2_scores.mean())"
   ]
  },
  {
   "cell_type": "code",
   "execution_count": 353,
   "metadata": {},
   "outputs": [
    {
     "name": "stdout",
     "output_type": "stream",
     "text": [
      "R2: 0.7480421955940313\n",
      "RMSE: 179870.90248657798\n",
      "MAPE:  19.664745177601283\n"
     ]
    }
   ],
   "source": [
    "# using first the default Decision Tree Settings\n",
    "d_tree = DecisionTreeRegressor()\n",
    "\n",
    "d_tree = d_tree.fit(X_train_3,y_train_3)\n",
    "\n",
    "y_pred = d_tree.predict(X_test_3)\n",
    "\n",
    "print('R2:',r2_score(y_test_3,y_pred))\n",
    "\n",
    "print('RMSE:',np.sqrt(mean_squared_error(y_test_3,y_pred)))\n",
    "\n",
    "epsilon = np.finfo(np.float64).eps\n",
    "mape = np.abs(y_pred - y_test_3) / np.maximum(np.abs(y_test_3), epsilon)\n",
    "output_errors = np.average(mape,\n",
    "                               weights=None, axis=0)\n",
    "\n",
    "mape_final =np.average(output_errors, weights=None)\n",
    "\n",
    "print('MAPE: ', mape_final*100)\n",
    "\n",
    "# Could see only a marginal change in the score"
   ]
  },
  {
   "cell_type": "markdown",
   "metadata": {},
   "source": [
    "**6.Model fitting step 3**"
   ]
  },
  {
   "cell_type": "code",
   "execution_count": 4,
   "metadata": {},
   "outputs": [],
   "source": [
    "X_train_4 = data[['bedrooms', 'sqft_living', 'floors', 'waterfront', 'grade', 'sqft_above', 'lat', 'long']]\n",
    "y_train_4 = data['price']"
   ]
  },
  {
   "cell_type": "code",
   "execution_count": 7,
   "metadata": {},
   "outputs": [],
   "source": [
    "# Spliting  the test data\n",
    "X_test_4 = data_test[['bedrooms', 'sqft_living', 'floors', 'waterfront', 'grade', 'sqft_above', 'lat', 'long']]\n",
    "\n",
    "y_test_4 = data_test['price']"
   ]
  },
  {
   "cell_type": "code",
   "execution_count": 17,
   "metadata": {},
   "outputs": [
    {
     "name": "stdout",
     "output_type": "stream",
     "text": [
      "\n",
      "Cross Validation\n",
      "RMSE:  -181469.84613660767\n",
      "R2:  0.7664290171798692\n"
     ]
    }
   ],
   "source": [
    "d_tree = DecisionTreeRegressor(min_samples_split= 15,min_samples_leaf=9, random_state= 20)\n",
    "\n",
    "# Using Cross Validation to train and test on the train data with the selected features\n",
    "trans_rmse_scores = cross_val_score(d_tree, X_train_4,y_train_4,cv=10, scoring = \"neg_root_mean_squared_error\")\n",
    "trans_r2_scores = cross_val_score(d_tree, X_train_4,y_train_4, cv=10, scoring = \"r2\")\n",
    "\n",
    "\n",
    "print('\\nCross Validation')\n",
    "\n",
    "print('RMSE: ',trans_rmse_scores.mean())\n",
    "print('R2: ',trans_r2_scores.mean())"
   ]
  },
  {
   "cell_type": "code",
   "execution_count": 19,
   "metadata": {},
   "outputs": [
    {
     "data": {
      "text/plain": [
       "'DT-d_tree.pdf'"
      ]
     },
     "execution_count": 19,
     "metadata": {},
     "output_type": "execute_result"
    }
   ],
   "source": [
    "## Decision tree plotting for the model\n",
    "import graphviz\n",
    "d_tree.fit(X_train_4, y_train_4)\n",
    "dt_data = tree.export_graphviz(d_tree, max_depth=3, out_file=None, feature_names=X_train_4.columns, filled=True, rounded=True)\n",
    "graph = graphviz.Source(dt_data)\n",
    "graph.render(\"DT-d_tree\")"
   ]
  },
  {
   "cell_type": "code",
   "execution_count": 352,
   "metadata": {
    "scrolled": true
   },
   "outputs": [
    {
     "name": "stdout",
     "output_type": "stream",
     "text": [
      "R2: 0.8178701687035694\n",
      "RMSE: 152928.19012099208\n",
      "MAPE:  16.921645845915766\n"
     ]
    }
   ],
   "source": [
    "d_tree = DecisionTreeRegressor(min_samples_split= 15,min_samples_leaf=9, random_state= 20)\n",
    "\n",
    "d_tree = d_tree.fit(X_train_4,y_train_4)\n",
    "\n",
    "y_pred = d_tree.predict(X_test_4)\n",
    "\n",
    "print('R2:',r2_score(y_test_4,y_pred))\n",
    "\n",
    "print('RMSE:',np.sqrt(mean_squared_error(y_test_4,y_pred)))\n",
    "\n",
    "epsilon = np.finfo(np.float64).eps\n",
    "mape = np.abs(y_pred - y_test_4) / np.maximum(np.abs(y_test_4), epsilon)\n",
    "output_errors = np.average(mape,\n",
    "                               weights=None, axis=0)\n",
    "\n",
    "mape_final =np.average(output_errors, weights=None)\n",
    "\n",
    "print('MAPE: ', mape_final*100)"
   ]
  },
  {
   "cell_type": "markdown",
   "metadata": {},
   "source": [
    "**DTree Model with GridSearchCV for best hyperparameters**"
   ]
  },
  {
   "cell_type": "code",
   "execution_count": 20,
   "metadata": {},
   "outputs": [
    {
     "name": "stdout",
     "output_type": "stream",
     "text": [
      "\n",
      "clf.best_estimator_:\n",
      "DecisionTreeRegressor(max_depth=10, min_samples_split=20)\n",
      "\n",
      "Cross Validation\n",
      "RMSE:  -174271.78406141355\n",
      "R2:  0.7851952194956424\n"
     ]
    }
   ],
   "source": [
    "# importing GridsearchCv package from library\n",
    "from sklearn.model_selection import GridSearchCV\n",
    "from sklearn import tree\n",
    "#train data\n",
    "X_train_5 = data[['bedrooms', 'sqft_living', 'floors', 'waterfront', 'grade', 'sqft_above', 'lat', 'long']]\n",
    "y_train_5 = data['price']\n",
    "\n",
    "#parameters to be tuned \n",
    "parameters={'min_samples_split' : range(20,100,20),'max_depth': range(2,12,2)}\n",
    "\n",
    "#GridSearch cross valition with CV=5 , the parameters to be tuned as above\n",
    "clf_tree=tree.DecisionTreeRegressor()\n",
    "clf=GridSearchCV(clf_tree,parameters,cv=5)\n",
    "clf.fit(X_train_5,y_train_5)\n",
    "\n",
    "#parameters giving the best score\n",
    "print('\\nclf.best_estimator_:')\n",
    "print(clf.best_estimator_)\n",
    "\n",
    "trans_rmse_scores = cross_val_score(clf.best_estimator_, X_train_5,y_train_5,cv=10, scoring = \"neg_root_mean_squared_error\")\n",
    "trans_r2_scores = cross_val_score(clf.best_estimator_, X_train_5,y_train_5, cv=10, scoring = \"r2\")\n",
    "\n",
    "\n",
    "print('\\nCross Validation')\n",
    "\n",
    "print('RMSE: ',trans_rmse_scores.mean())\n",
    "print('R2: ',trans_r2_scores.mean())"
   ]
  },
  {
   "cell_type": "code",
   "execution_count": 22,
   "metadata": {},
   "outputs": [
    {
     "data": {
      "text/plain": [
       "'DT-cv.pdf'"
      ]
     },
     "execution_count": 22,
     "metadata": {},
     "output_type": "execute_result"
    }
   ],
   "source": [
    "import graphviz\n",
    "dt_data = tree.export_graphviz(clf.best_estimator_, max_depth=3, out_file=None, feature_names=X_train_5.columns, filled=True, rounded=True)\n",
    "graph = graphviz.Source(dt_data)\n",
    "graph.render(\"DT-cv\")"
   ]
  },
  {
   "cell_type": "code",
   "execution_count": 21,
   "metadata": {},
   "outputs": [],
   "source": [
    "# Spliting  the test data\n",
    "X_test_5 = data_test[['bedrooms', 'sqft_living', 'floors', 'waterfront', 'grade', 'sqft_above', 'lat', 'long']]\n",
    "y_test_5 = data_test['price']"
   ]
  },
  {
   "cell_type": "code",
   "execution_count": 41,
   "metadata": {},
   "outputs": [
    {
     "name": "stdout",
     "output_type": "stream",
     "text": [
      "R2: 0.8034166846311277\n",
      "RMSE: 158880.40334243907\n"
     ]
    }
   ],
   "source": [
    "y_pred = clf.best_estimator_.predict(X_test_5)\n",
    "\n",
    "print('R2:',r2_score(y_test_5,y_pred))\n",
    "\n",
    "print('RMSE:',np.sqrt(mean_squared_error(y_test_5,y_pred)))"
   ]
  }
 ],
 "metadata": {
  "kernelspec": {
   "display_name": "Python 3",
   "language": "python",
   "name": "python3"
  },
  "language_info": {
   "codemirror_mode": {
    "name": "ipython",
    "version": 3
   },
   "file_extension": ".py",
   "mimetype": "text/x-python",
   "name": "python",
   "nbconvert_exporter": "python",
   "pygments_lexer": "ipython3",
   "version": "3.8.5"
  }
 },
 "nbformat": 4,
 "nbformat_minor": 4
}
